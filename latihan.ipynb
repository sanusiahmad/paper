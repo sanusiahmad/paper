{
  "nbformat": 4,
  "nbformat_minor": 0,
  "metadata": {
    "colab": {
      "provenance": [],
      "authorship_tag": "ABX9TyMJ9IamEUe1yME3CS1/6nX/",
      "include_colab_link": true
    },
    "kernelspec": {
      "name": "python3",
      "display_name": "Python 3"
    },
    "language_info": {
      "name": "python"
    }
  },
  "cells": [
    {
      "cell_type": "markdown",
      "metadata": {
        "id": "view-in-github",
        "colab_type": "text"
      },
      "source": [
        "<a href=\"https://colab.research.google.com/github/sanusiahmad/paper/blob/main/latihan.ipynb\" target=\"_parent\"><img src=\"https://colab.research.google.com/assets/colab-badge.svg\" alt=\"Open In Colab\"/></a>"
      ]
    },
    {
      "cell_type": "code",
      "execution_count": 50,
      "metadata": {
        "id": "jUqWZuv8fLYK"
      },
      "outputs": [],
      "source": [
        "import cv2\n",
        "import math\n",
        "import numpy as np\n",
        "\n",
        "ori = cv2.imread('ss.jpg', cv2.IMREAD_UNCHANGED)"
      ]
    },
    {
      "cell_type": "code",
      "source": [
        "# Ubah colorspace gambar dari BGR ke HSV\n",
        "converted = cv2.cvtColor(ori, cv2.COLOR_BGR2HSV)"
      ],
      "metadata": {
        "id": "CEibULL0mksi"
      },
      "execution_count": 51,
      "outputs": []
    },
    {
      "cell_type": "code",
      "source": [
        "# Contoh ingin mendeteksi warna biru\n",
        "# maka pertama kita akan mencari threshold untuk warna biru\n",
        "lowColor = np.array([100, 10, 10])\n",
        "highColor = np.array([120, 255, 255])"
      ],
      "metadata": {
        "id": "dkVblardmtwb"
      },
      "execution_count": 52,
      "outputs": []
    },
    {
      "cell_type": "code",
      "source": [
        "#Buat masking dengan rentang warna yang akan dideteksi\n",
        "masking = cv2.inRange(converted, lowColor, highColor)"
      ],
      "metadata": {
        "id": "a4VhggQBmzjZ"
      },
      "execution_count": 53,
      "outputs": []
    },
    {
      "cell_type": "code",
      "source": [
        "#Erosi untuk menghilangkan noise pada gambar\n",
        "masking = cv2.erode(masking, None, iterations=1)\n"
      ],
      "metadata": {
        "id": "cx3ncI8onK6_"
      },
      "execution_count": 54,
      "outputs": []
    },
    {
      "cell_type": "code",
      "source": [
        "#Cari Contours\n",
        "contours, hierarchy = cv2.findContours(masking, cv2.RETR_EXTERNAL, cv2.CHAIN_APPROX_NONE)\n",
        "print(len(contours))\n"
      ],
      "metadata": {
        "colab": {
          "base_uri": "https://localhost:8080/"
        },
        "id": "2P9PVtY1nPap",
        "outputId": "6f243b75-b45c-431b-95b9-380449a1ec43"
      },
      "execution_count": 55,
      "outputs": [
        {
          "output_type": "stream",
          "name": "stdout",
          "text": [
            "591\n"
          ]
        }
      ]
    },
    {
      "cell_type": "code",
      "source": [
        "#Hitung area contours\n",
        "print(cv2.contourArea(contours[0]))"
      ],
      "metadata": {
        "colab": {
          "base_uri": "https://localhost:8080/"
        },
        "id": "V4p9w8ExnSxb",
        "outputId": "eac8e42c-9204-4070-cdeb-243e6ad5c0cd"
      },
      "execution_count": 56,
      "outputs": [
        {
          "output_type": "stream",
          "name": "stdout",
          "text": [
            "0.0\n"
          ]
        }
      ]
    },
    {
      "cell_type": "code",
      "source": [
        "#Gambarkan contours\n",
        "imgx = cv2.drawContours(ori, contours, -1, (0, 200, 0), 3)\n",
        "print(imgx)"
      ],
      "metadata": {
        "colab": {
          "base_uri": "https://localhost:8080/"
        },
        "id": "bifFlK64nV0Z",
        "outputId": "a1aac556-4504-4547-8449-877b2e6ec284"
      },
      "execution_count": 61,
      "outputs": [
        {
          "output_type": "stream",
          "name": "stdout",
          "text": [
            "[[[  0 200   0]\n",
            "  [  0 200   0]\n",
            "  [  0 200   0]\n",
            "  ...\n",
            "  [  0 200   0]\n",
            "  [  0 200   0]\n",
            "  [  0 200   0]]\n",
            "\n",
            " [[  0 200   0]\n",
            "  [  0 200   0]\n",
            "  [  0 200   0]\n",
            "  ...\n",
            "  [  0 200   0]\n",
            "  [  0 200   0]\n",
            "  [  0 200   0]]\n",
            "\n",
            " [[  0 200   0]\n",
            "  [  0 200   0]\n",
            "  [  0 200   0]\n",
            "  ...\n",
            "  [  0 200   0]\n",
            "  [  0 200   0]\n",
            "  [  0 200   0]]\n",
            "\n",
            " ...\n",
            "\n",
            " [[197 196 198]\n",
            "  [196 195 197]\n",
            "  [197 196 198]\n",
            "  ...\n",
            "  [137 131 132]\n",
            "  [137 131 132]\n",
            "  [137 131 132]]\n",
            "\n",
            " [[186 185 187]\n",
            "  [194 193 195]\n",
            "  [203 202 204]\n",
            "  ...\n",
            "  [123 117 118]\n",
            "  [123 117 118]\n",
            "  [123 117 118]]\n",
            "\n",
            " [[177 176 178]\n",
            "  [193 192 194]\n",
            "  [209 208 210]\n",
            "  ...\n",
            "  [132 126 127]\n",
            "  [132 126 127]\n",
            "  [132 126 127]]]\n"
          ]
        }
      ]
    }
  ]
}